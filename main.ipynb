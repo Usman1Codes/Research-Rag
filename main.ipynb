{
 "cells": [
  {
   "cell_type": "markdown",
   "metadata": {},
   "source": [
    "Header"
   ]
  },
  {
   "cell_type": "code",
   "execution_count": null,
   "metadata": {},
   "outputs": [],
   "source": [
    "import os\n",
    "import logging\n",
    "from pathlib import Path\n",
    "from typing import Optional\n",
    "from dotenv import load_dotenv\n",
    "from langchain_community.document_loaders import PyPDFLoader\n",
    "from langchain_openai import ChatOpenAI"
   ]
  },
  {
   "cell_type": "markdown",
   "metadata": {},
   "source": [
    "Logging and API Key"
   ]
  },
  {
   "cell_type": "code",
   "execution_count": null,
   "metadata": {},
   "outputs": [],
   "source": [
    "logging.basicConfig(\n",
    "    level=logging.INFO,\n",
    "    format='%(asctime)s - %(message)s',\n",
    "    datefmt='%Y-%m-%d %H:%M:%S'\n",
    ")\n",
    "logger = logging.getLogger(__name__)\n",
    "\n",
    "# Load environment variables\n",
    "load_dotenv()\n",
    "OPENAI_API_KEY = os.getenv('OPENAI_API_KEY')\n",
    "if not OPENAI_API_KEY:\n",
    "    raise ValueError(\"Please set OPENAI_API_KEY in .env file\")"
   ]
  },
  {
   "cell_type": "markdown",
   "metadata": {},
   "source": [
    "Prompt"
   ]
  },
  {
   "cell_type": "code",
   "execution_count": null,
   "metadata": {},
   "outputs": [],
   "source": [
    "RESEARCH_PROMPT = \"\"\"As an Expert Research Summarizer, analyze this content and create a clear, \n",
    "comprehensive summary that includes:\n",
    "1. Research objectives and problem statement\n",
    "2. Methodology and approach used\n",
    "3. Key findings and results\n",
    "4. Main conclusions and implications\n",
    "5. Limitations or future work suggestions\n",
    "Guidelines:\n",
    "- Maintain academic rigor and objectivity\n",
    "- Use precise, technical language appropriately\n",
    "- Focus on significant insights and innovations\n",
    "- Structure information logically\n",
    "- Keep the summary clear and concise\n",
    "Format the summary to be immediately valuable to technical professionals.\"\"\""
   ]
  },
  {
   "cell_type": "markdown",
   "metadata": {},
   "source": [
    "Pdf load Function"
   ]
  },
  {
   "cell_type": "code",
   "execution_count": null,
   "metadata": {},
   "outputs": [],
   "source": [
    "def load_pdf(file_path: Path) -> Optional[str]:\n",
    "    \"\"\"Load PDF content.\"\"\"\n",
    "    try:\n",
    "        loader = PyPDFLoader(str(file_path))\n",
    "        pages = loader.load()\n",
    "        return \"\\n\\n\".join(page.page_content for page in pages)\n",
    "    except Exception as e:\n",
    "        logger.error(f\"Error loading PDF {file_path.name}: {str(e)}\")\n",
    "        return None"
   ]
  },
  {
   "cell_type": "markdown",
   "metadata": {},
   "source": [
    "Summarize"
   ]
  },
  {
   "cell_type": "code",
   "execution_count": null,
   "metadata": {},
   "outputs": [],
   "source": [
    "def summarize_text(text: str) -> Optional[str]:\n",
    "    \"\"\"Generate summary using LLM.\"\"\"\n",
    "    try:\n",
    "        llm = ChatOpenAI(\n",
    "            temperature=0.3,\n",
    "            model_name=\"gpt-4\",\n",
    "            max_tokens=1500\n",
    "        )\n",
    "        messages = [\n",
    "            {\"role\": \"system\", \"content\": RESEARCH_PROMPT},\n",
    "            {\"role\": \"user\", \"content\": text}\n",
    "        ]\n",
    "        response = llm.invoke(messages)\n",
    "        return response.content.strip()\n",
    "    except Exception as e:\n",
    "        logger.error(f\"Error in summarization: {str(e)}\")\n",
    "        return None"
   ]
  },
  {
   "cell_type": "markdown",
   "metadata": {},
   "source": [
    "PFD Processing function"
   ]
  },
  {
   "cell_type": "code",
   "execution_count": null,
   "metadata": {},
   "outputs": [],
   "source": [
    "def process_pdf(file_path: Path) -> Optional[str]:\n",
    "    \"\"\"Process a single PDF file and generate its summary.\"\"\"\n",
    "    try:\n",
    "        # Load PDF content\n",
    "        content = load_pdf(file_path)\n",
    "        if not content:\n",
    "            return None\n",
    "        \n",
    "        # Generate summary\n",
    "        return summarize_text(content)\n",
    "    except Exception as e:\n",
    "        logger.error(f\"Error processing {file_path.name}: {str(e)}\")\n",
    "        return None"
   ]
  },
  {
   "cell_type": "markdown",
   "metadata": {},
   "source": [
    "Function for automaated file in and out process"
   ]
  },
  {
   "cell_type": "code",
   "execution_count": null,
   "metadata": {},
   "outputs": [],
   "source": [
    "def process_all_pdfs(input_dir: str = \"docs\") -> None:\n",
    "    \"\"\"Process all PDF files in the input directory.\"\"\"\n",
    "    # Setup directories\n",
    "    input_path = Path(input_dir)\n",
    "    output_path = input_path / \"summaries\"\n",
    "    output_path.mkdir(exist_ok=True)\n",
    "\n",
    "    # Get all PDF files\n",
    "    pdf_files = list(input_path.glob('*.pdf'))\n",
    "    if not pdf_files:\n",
    "        logger.warning(f\"No PDF files found in {input_dir}\")\n",
    "        return\n",
    "    \n",
    "    logger.info(f\"Found {len(pdf_files)} PDF files to process\")\n",
    "    successful = failed = 0\n",
    "\n",
    "    for pdf_file in pdf_files:\n",
    "        try:\n",
    "            logger.info(f\"Processing: {pdf_file.name}\")\n",
    "            summary = process_pdf(pdf_file)\n",
    "            \n",
    "            if summary:\n",
    "                output_file = output_path / f\"{pdf_file.stem}.txt\"\n",
    "                with open(output_file, 'w', encoding='utf-8') as f:\n",
    "                    f.write(summary)\n",
    "                logger.info(f\"Successfully processed: {pdf_file.name}\")\n",
    "                successful += 1\n",
    "            else:\n",
    "                logger.error(f\"Failed to process: {pdf_file.name}\")\n",
    "                failed += 1\n",
    "        except Exception as e:\n",
    "            logger.error(f\"Error processing {pdf_file.name}: {str(e)}\")\n",
    "            failed += 1\n",
    "\n",
    "    logger.info(\"\\nProcessing completed:\")\n",
    "    logger.info(f\"Successfully processed: {successful} files\")\n",
    "    logger.info(f\"Failed to process: {failed} files\")"
   ]
  },
  {
   "cell_type": "markdown",
   "metadata": {},
   "source": [
    "MAIN"
   ]
  },
  {
   "cell_type": "code",
   "execution_count": null,
   "metadata": {},
   "outputs": [],
   "source": [
    "if __name__ == \"__main__\":\n",
    "    try:\n",
    "        process_all_pdfs()\n",
    "    except Exception as e:\n",
    "        logger.error(f\"Application error: {e}\")"
   ]
  }
 ],
 "metadata": {
  "kernelspec": {
   "display_name": "Python 3",
   "language": "python",
   "name": "python3"
  },
  "language_info": {
   "name": "python",
   "version": "3.12.7"
  }
 },
 "nbformat": 4,
 "nbformat_minor": 2
}
